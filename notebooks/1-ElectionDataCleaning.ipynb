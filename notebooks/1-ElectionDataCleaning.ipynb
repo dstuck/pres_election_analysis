{
 "cells": [
  {
   "cell_type": "code",
   "execution_count": 1,
   "metadata": {
    "collapsed": true
   },
   "outputs": [],
   "source": [
    "%matplotlib inline\n",
    "import matplotlib.pyplot as plt\n",
    "import pandas as pd\n",
    "import numpy as np\n",
    "import seaborn as sns\n",
    "import datetime as dt\n",
    "import os\n",
    "import re\n",
    "import glob"
   ]
  },
  {
   "cell_type": "code",
   "execution_count": 2,
   "metadata": {
    "collapsed": true
   },
   "outputs": [],
   "source": [
    "import configargparse\n",
    "\n",
    "p = configargparse.ArgParser(description=__doc__)\n",
    "p.add('-c', '--config_file', is_config_file=True, env_var='CONFIG_FILE', default='config.txt')\n",
    "p.add('--external_data_dir', required=True)\n",
    "args = p.parse_known_args()[0]"
   ]
  },
  {
   "cell_type": "code",
   "execution_count": 3,
   "metadata": {
    "collapsed": false
   },
   "outputs": [
    {
     "data": {
      "text/plain": [
       "'/Users/dstuck/projects/election/ext_data'"
      ]
     },
     "execution_count": 3,
     "metadata": {},
     "output_type": "execute_result"
    }
   ],
   "source": [
    "args.external_data_dir"
   ]
  },
  {
   "cell_type": "code",
   "execution_count": null,
   "metadata": {
    "collapsed": true
   },
   "outputs": [],
   "source": []
  },
  {
   "cell_type": "markdown",
   "metadata": {},
   "source": [
    "# Pull in Census Demographics"
   ]
  },
  {
   "cell_type": "markdown",
   "metadata": {},
   "source": [
    "## 2011 5 Year Estimate"
   ]
  },
  {
   "cell_type": "code",
   "execution_count": 4,
   "metadata": {
    "collapsed": false
   },
   "outputs": [],
   "source": [
    "race_by_county = pd.read_csv(\n",
    "    os.path.join(args.external_data_dir, 'ACS_5YR/ACS_11_5YR_B02001_with_ann.csv')\n",
    ")"
   ]
  },
  {
   "cell_type": "code",
   "execution_count": 5,
   "metadata": {
    "collapsed": false
   },
   "outputs": [],
   "source": [
    "#race_by_county"
   ]
  },
  {
   "cell_type": "code",
   "execution_count": null,
   "metadata": {
    "collapsed": true
   },
   "outputs": [],
   "source": []
  },
  {
   "cell_type": "markdown",
   "metadata": {},
   "source": [
    "## 2015 Estimates"
   ]
  },
  {
   "cell_type": "code",
   "execution_count": 6,
   "metadata": {
    "collapsed": false
   },
   "outputs": [],
   "source": [
    "'''\n",
    "The key for the YEAR variable is as follows: \n",
    "1 = 4/1/2010 Census population\n",
    "2 = 4/1/2010 population estimates base \n",
    "3 = 7/1/2010 population estimate\n",
    "4 = 7/1/2011 population estimate \n",
    "5 = 7/1/2012 population estimate \n",
    "6 = 7/1/2013 population estimate \n",
    "7 = 7/1/2014 population estimate \n",
    "8 = 7/1/2015 population estimate\n",
    "\n",
    "The key for AGEGRP is as follows: \n",
    "0 = Total\n",
    "1 = Age 0 to 4 years \n",
    "2 = Age 5 to 9 years\n",
    "3 = Age 10 to 14 years\n",
    "4 = Age 15 to 19 years\n",
    "5 = Age 20 to 24 years\n",
    "6 = Age 25 to 29 years\n",
    "7 = Age 30 to 34 years\n",
    "8 = Age 35 to 39 years\n",
    "9 = Age 40 to 44 years\n",
    "10 = Age 45 to 49 years \n",
    "11 = Age 50 to 54 years \n",
    "12 = Age 55 to 59 years \n",
    "13 = Age 60 to 64 years \n",
    "14 = Age 65 to 69 years \n",
    "15 = Age 70 to 74 years \n",
    "16 = Age 75 to 79 years \n",
    "17 = Age 80 to 84 years \n",
    "18 = Age 85 years or older\n",
    "\n",
    "TOT_POP - Total population\n",
    "WA_MALE - White alone male population\n",
    "WA_FEMALE\n",
    "BAC_MALE - Black or African American alone or in combination male population\n",
    "BAC_FEMALE\n",
    "''';"
   ]
  },
  {
   "cell_type": "code",
   "execution_count": 7,
   "metadata": {
    "collapsed": false
   },
   "outputs": [],
   "source": [
    "#Download file info here: http://www.census.gov/popest/data/counties/asrh/2015/CC-EST2015-ALLDATA.html\n",
    "census_df = pd.read_csv(\n",
    "    'http://www.census.gov/popest/data/counties/asrh/2015/files/CC-EST2015-ALLDATA.csv'\n",
    ")"
   ]
  },
  {
   "cell_type": "code",
   "execution_count": 8,
   "metadata": {
    "collapsed": true
   },
   "outputs": [],
   "source": [
    "census_df.columns = [col.lower() for col in census_df.columns]"
   ]
  },
  {
   "cell_type": "code",
   "execution_count": 9,
   "metadata": {
    "collapsed": false
   },
   "outputs": [],
   "source": [
    "demos_2015_voters_df = census_df.query('year == 8 and agegrp >= 5')"
   ]
  },
  {
   "cell_type": "code",
   "execution_count": 10,
   "metadata": {
    "collapsed": false
   },
   "outputs": [],
   "source": [
    "demos_2015_voters_df = demos_2015_voters_df.drop(['sumlev', 'year', 'agegrp'], axis=1).groupby(\n",
    "    ['state', 'stname', 'county', 'ctyname']\n",
    ").sum().reset_index()"
   ]
  },
  {
   "cell_type": "code",
   "execution_count": 11,
   "metadata": {
    "collapsed": false,
    "scrolled": true
   },
   "outputs": [
    {
     "data": {
      "text/html": [
       "<div>\n",
       "<table border=\"1\" class=\"dataframe\">\n",
       "  <thead>\n",
       "    <tr style=\"text-align: right;\">\n",
       "      <th></th>\n",
       "      <th>state</th>\n",
       "      <th>stname</th>\n",
       "      <th>county</th>\n",
       "      <th>ctyname</th>\n",
       "      <th>tot_pop</th>\n",
       "      <th>tot_male</th>\n",
       "      <th>tot_female</th>\n",
       "      <th>wa_male</th>\n",
       "      <th>wa_female</th>\n",
       "      <th>ba_male</th>\n",
       "      <th>...</th>\n",
       "      <th>hwac_male</th>\n",
       "      <th>hwac_female</th>\n",
       "      <th>hbac_male</th>\n",
       "      <th>hbac_female</th>\n",
       "      <th>hiac_male</th>\n",
       "      <th>hiac_female</th>\n",
       "      <th>haac_male</th>\n",
       "      <th>haac_female</th>\n",
       "      <th>hnac_male</th>\n",
       "      <th>hnac_female</th>\n",
       "    </tr>\n",
       "  </thead>\n",
       "  <tbody>\n",
       "    <tr>\n",
       "      <th>0</th>\n",
       "      <td>1</td>\n",
       "      <td>Alabama</td>\n",
       "      <td>1</td>\n",
       "      <td>Autauga County</td>\n",
       "      <td>40372</td>\n",
       "      <td>19225</td>\n",
       "      <td>21147</td>\n",
       "      <td>15314</td>\n",
       "      <td>16399</td>\n",
       "      <td>3383</td>\n",
       "      <td>...</td>\n",
       "      <td>400</td>\n",
       "      <td>405</td>\n",
       "      <td>47</td>\n",
       "      <td>37</td>\n",
       "      <td>19</td>\n",
       "      <td>23</td>\n",
       "      <td>4</td>\n",
       "      <td>6</td>\n",
       "      <td>13</td>\n",
       "      <td>7</td>\n",
       "    </tr>\n",
       "    <tr>\n",
       "      <th>1</th>\n",
       "      <td>1</td>\n",
       "      <td>Alabama</td>\n",
       "      <td>3</td>\n",
       "      <td>Baldwin County</td>\n",
       "      <td>154649</td>\n",
       "      <td>74316</td>\n",
       "      <td>80333</td>\n",
       "      <td>65923</td>\n",
       "      <td>70973</td>\n",
       "      <td>6430</td>\n",
       "      <td>...</td>\n",
       "      <td>2865</td>\n",
       "      <td>2406</td>\n",
       "      <td>135</td>\n",
       "      <td>142</td>\n",
       "      <td>118</td>\n",
       "      <td>94</td>\n",
       "      <td>20</td>\n",
       "      <td>27</td>\n",
       "      <td>20</td>\n",
       "      <td>20</td>\n",
       "    </tr>\n",
       "    <tr>\n",
       "      <th>2</th>\n",
       "      <td>1</td>\n",
       "      <td>Alabama</td>\n",
       "      <td>5</td>\n",
       "      <td>Barbour County</td>\n",
       "      <td>20379</td>\n",
       "      <td>11057</td>\n",
       "      <td>9322</td>\n",
       "      <td>5738</td>\n",
       "      <td>4849</td>\n",
       "      <td>5079</td>\n",
       "      <td>...</td>\n",
       "      <td>313</td>\n",
       "      <td>196</td>\n",
       "      <td>45</td>\n",
       "      <td>30</td>\n",
       "      <td>47</td>\n",
       "      <td>20</td>\n",
       "      <td>0</td>\n",
       "      <td>2</td>\n",
       "      <td>14</td>\n",
       "      <td>9</td>\n",
       "    </tr>\n",
       "    <tr>\n",
       "      <th>3</th>\n",
       "      <td>1</td>\n",
       "      <td>Alabama</td>\n",
       "      <td>7</td>\n",
       "      <td>Bibb County</td>\n",
       "      <td>17438</td>\n",
       "      <td>9372</td>\n",
       "      <td>8066</td>\n",
       "      <td>6726</td>\n",
       "      <td>6519</td>\n",
       "      <td>2525</td>\n",
       "      <td>...</td>\n",
       "      <td>208</td>\n",
       "      <td>147</td>\n",
       "      <td>15</td>\n",
       "      <td>7</td>\n",
       "      <td>5</td>\n",
       "      <td>3</td>\n",
       "      <td>1</td>\n",
       "      <td>2</td>\n",
       "      <td>15</td>\n",
       "      <td>2</td>\n",
       "    </tr>\n",
       "    <tr>\n",
       "      <th>4</th>\n",
       "      <td>1</td>\n",
       "      <td>Alabama</td>\n",
       "      <td>9</td>\n",
       "      <td>Blount County</td>\n",
       "      <td>43050</td>\n",
       "      <td>21076</td>\n",
       "      <td>21974</td>\n",
       "      <td>20307</td>\n",
       "      <td>21207</td>\n",
       "      <td>387</td>\n",
       "      <td>...</td>\n",
       "      <td>1612</td>\n",
       "      <td>1163</td>\n",
       "      <td>45</td>\n",
       "      <td>25</td>\n",
       "      <td>24</td>\n",
       "      <td>48</td>\n",
       "      <td>5</td>\n",
       "      <td>5</td>\n",
       "      <td>16</td>\n",
       "      <td>13</td>\n",
       "    </tr>\n",
       "  </tbody>\n",
       "</table>\n",
       "<p>5 rows × 77 columns</p>\n",
       "</div>"
      ],
      "text/plain": [
       "   state   stname  county         ctyname  tot_pop  tot_male  tot_female  \\\n",
       "0      1  Alabama       1  Autauga County    40372     19225       21147   \n",
       "1      1  Alabama       3  Baldwin County   154649     74316       80333   \n",
       "2      1  Alabama       5  Barbour County    20379     11057        9322   \n",
       "3      1  Alabama       7     Bibb County    17438      9372        8066   \n",
       "4      1  Alabama       9   Blount County    43050     21076       21974   \n",
       "\n",
       "   wa_male  wa_female  ba_male     ...       hwac_male  hwac_female  \\\n",
       "0    15314      16399     3383     ...             400          405   \n",
       "1    65923      70973     6430     ...            2865         2406   \n",
       "2     5738       4849     5079     ...             313          196   \n",
       "3     6726       6519     2525     ...             208          147   \n",
       "4    20307      21207      387     ...            1612         1163   \n",
       "\n",
       "   hbac_male  hbac_female  hiac_male  hiac_female  haac_male  haac_female  \\\n",
       "0         47           37         19           23          4            6   \n",
       "1        135          142        118           94         20           27   \n",
       "2         45           30         47           20          0            2   \n",
       "3         15            7          5            3          1            2   \n",
       "4         45           25         24           48          5            5   \n",
       "\n",
       "   hnac_male  hnac_female  \n",
       "0         13            7  \n",
       "1         20           20  \n",
       "2         14            9  \n",
       "3         15            2  \n",
       "4         16           13  \n",
       "\n",
       "[5 rows x 77 columns]"
      ]
     },
     "execution_count": 11,
     "metadata": {},
     "output_type": "execute_result"
    }
   ],
   "source": [
    "demos_2015_voters_df.head()"
   ]
  },
  {
   "cell_type": "code",
   "execution_count": 12,
   "metadata": {
    "collapsed": true
   },
   "outputs": [],
   "source": [
    "def combine_st_ct(state, county):\n",
    "    return '{}{:03d}'.format(state, county)"
   ]
  },
  {
   "cell_type": "code",
   "execution_count": 13,
   "metadata": {
    "collapsed": false,
    "scrolled": true
   },
   "outputs": [],
   "source": [
    "demos_2015_voters_df.loc[:, 'fips'] = demos_2015_voters_df.apply(\n",
    "    lambda x: combine_st_ct(x['state'], x['county']), axis=1\n",
    ")"
   ]
  },
  {
   "cell_type": "code",
   "execution_count": 14,
   "metadata": {
    "collapsed": false
   },
   "outputs": [],
   "source": [
    "demos_2015_voters_df = demos_2015_voters_df.set_index('fips')"
   ]
  },
  {
   "cell_type": "code",
   "execution_count": 15,
   "metadata": {
    "collapsed": false
   },
   "outputs": [],
   "source": [
    "#demos_2015_voters_df.tot_pop"
   ]
  },
  {
   "cell_type": "code",
   "execution_count": 16,
   "metadata": {
    "collapsed": true
   },
   "outputs": [],
   "source": [
    "def fraction_by_race(data, race='bac'):\n",
    "    return (data[race+'_male'] + data[race+'_female']) / float(data['tot_pop'])"
   ]
  },
  {
   "cell_type": "code",
   "execution_count": 17,
   "metadata": {
    "collapsed": false
   },
   "outputs": [],
   "source": [
    "demos_2015_voters_df.loc[:, 'bac_frac'] = demos_2015_voters_df.apply(lambda x: fraction_by_race(x, race='bac'), axis=1)"
   ]
  },
  {
   "cell_type": "code",
   "execution_count": 18,
   "metadata": {
    "collapsed": false
   },
   "outputs": [],
   "source": [
    "demos_2015_voters_df.loc[:, 'wa_frac'] = demos_2015_voters_df.apply(lambda x: fraction_by_race(x, race='wa'), axis=1)"
   ]
  },
  {
   "cell_type": "code",
   "execution_count": 20,
   "metadata": {
    "collapsed": false
   },
   "outputs": [],
   "source": [
    "demos_2015_voters_df.loc[:, 'wac_frac'] = demos_2015_voters_df.apply(lambda x: fraction_by_race(x, race='wa'), axis=1)"
   ]
  },
  {
   "cell_type": "code",
   "execution_count": 21,
   "metadata": {
    "collapsed": true
   },
   "outputs": [],
   "source": [
    "demos_2015_voters_df.to_csv('../data/demos_2015.csv.gz', compression='gzip')"
   ]
  },
  {
   "cell_type": "code",
   "execution_count": null,
   "metadata": {
    "collapsed": true
   },
   "outputs": [],
   "source": []
  },
  {
   "cell_type": "markdown",
   "metadata": {},
   "source": [
    "## Voter Rights Act Counties"
   ]
  },
  {
   "cell_type": "code",
   "execution_count": 19,
   "metadata": {
    "collapsed": true
   },
   "outputs": [],
   "source": [
    "# https://www.justice.gov/crt/jurisdictions-previously-covered-section-5"
   ]
  },
  {
   "cell_type": "code",
   "execution_count": 20,
   "metadata": {
    "collapsed": true
   },
   "outputs": [],
   "source": [
    "county_to_code_mapping = pd.read_csv(os.path.join(\n",
    "        args.external_data_dir, 'county_election_results_2016/state_county_fips.csv'\n",
    "    ))"
   ]
  },
  {
   "cell_type": "code",
   "execution_count": 49,
   "metadata": {
    "collapsed": true
   },
   "outputs": [],
   "source": [
    "vra_states = [\n",
    "    'al', 'ak', 'az', 'ga', 'la', 'ms', 'sc', 'tx', 'va'\n",
    "]\n"
   ]
  },
  {
   "cell_type": "code",
   "execution_count": 47,
   "metadata": {
    "collapsed": true
   },
   "outputs": [],
   "source": [
    "vra_counties = {\n",
    "    'ca': [\n",
    "        'kings',\n",
    "        'monterey',\n",
    "        'yuba',\n",
    "    ],\n",
    "    'fl': [\n",
    "        'collier', 'hardee', 'hendry', 'hillsborough', 'monroe'\n",
    "    ],\n",
    "    'ny': ['bronx', 'bronx', 'kings', 'kings', 'new york'],\n",
    "    'nc': [\n",
    "        'anson',\n",
    "        'beaufort',\n",
    "        'bertie',\n",
    "        'bladen',\n",
    "        'camden',\n",
    "        'caswell',\n",
    "        'chowan',\n",
    "        'cleveland',\n",
    "        'craven',\n",
    "        'cumberland',\n",
    "        'edgecombe',\n",
    "        'franklin',\n",
    "        'gaston',\n",
    "        'gates',\n",
    "        'granville',\n",
    "        'greene',\n",
    "        'guilford',\n",
    "        'halifax',\n",
    "        'harnett',\n",
    "        'hertford',\n",
    "        'hoke',\n",
    "        'jackson',\n",
    "        'lee',\n",
    "        'lenoir',\n",
    "        'martin',\n",
    "        'nash',\n",
    "        'northampton',\n",
    "        'onslow',\n",
    "        'pasquotank',\n",
    "        'perquimans',\n",
    "        'person',\n",
    "        'pitt',\n",
    "        'robeson',\n",
    "        'rockingham',\n",
    "        'scotland',\n",
    "        'union',\n",
    "        'vance',\n",
    "        'washington',\n",
    "        'wayne',\n",
    "        'wilson'\n",
    "    ],\n",
    "    'sd': ['shannon', 'todd'],\n",
    "    'mi': ['allegan', 'saginaw']\n",
    "}"
   ]
  },
  {
   "cell_type": "code",
   "execution_count": 70,
   "metadata": {
    "collapsed": false,
    "scrolled": false
   },
   "outputs": [],
   "source": [
    "vra_county_df = pd.DataFrame([])\n",
    "i=0\n",
    "for state, counties in vra_counties.iteritems():\n",
    "    for c in counties:\n",
    "        vra_county_df.loc[i, 'abbr_state'] = state\n",
    "        vra_county_df.loc[i, 'county'] = c\n",
    "        i+=1\n",
    "        #print county_to_code_mapping.query('abbr_state==\"{}\" and county==\"{}\"'.format(state, c))"
   ]
  },
  {
   "cell_type": "code",
   "execution_count": 71,
   "metadata": {
    "collapsed": false
   },
   "outputs": [],
   "source": [
    "vra_state_df = pd.DataFrame(vra_states, columns=['abbr_state'])"
   ]
  },
  {
   "cell_type": "code",
   "execution_count": null,
   "metadata": {
    "collapsed": false
   },
   "outputs": [],
   "source": []
  },
  {
   "cell_type": "code",
   "execution_count": 76,
   "metadata": {
    "collapsed": false
   },
   "outputs": [],
   "source": [
    "full_vra_counties = pd.concat([\n",
    "        vra_state_df.merge(county_to_code_mapping)[['fips']],\n",
    "        vra_county_df.merge(county_to_code_mapping)[['fips']]\n",
    "    ]).set_index('fips')"
   ]
  },
  {
   "cell_type": "code",
   "execution_count": 80,
   "metadata": {
    "collapsed": true
   },
   "outputs": [],
   "source": [
    "full_vra_counties.loc[:, 'vra_county'] = True"
   ]
  },
  {
   "cell_type": "code",
   "execution_count": 83,
   "metadata": {
    "collapsed": false
   },
   "outputs": [],
   "source": [
    "full_vra_counties = full_vra_counties.join(\n",
    "    county_to_code_mapping.set_index('fips')[[]], how='outer'\n",
    ").fillna('False')"
   ]
  },
  {
   "cell_type": "code",
   "execution_count": null,
   "metadata": {
    "collapsed": true
   },
   "outputs": [],
   "source": []
  },
  {
   "cell_type": "markdown",
   "metadata": {},
   "source": [
    "## New Voter Restrictions"
   ]
  },
  {
   "cell_type": "code",
   "execution_count": null,
   "metadata": {
    "collapsed": true
   },
   "outputs": [],
   "source": [
    "# https://www.aclu.org/map/voter-suppression-laws-whats-new-2012-presidential-election"
   ]
  },
  {
   "cell_type": "code",
   "execution_count": 85,
   "metadata": {
    "collapsed": true
   },
   "outputs": [],
   "source": [
    "restricted_states = [\n",
    "    'az', 'tx', 'ks', 'nd', 'wi', 'in', 'oh',\n",
    "    'nh', 'ri', 'tn', 'nc', 'ms', 'al', 'ga'\n",
    "]"
   ]
  },
  {
   "cell_type": "code",
   "execution_count": 91,
   "metadata": {
    "collapsed": false
   },
   "outputs": [],
   "source": [
    "restricted_states_df = pd.DataFrame(\n",
    "    restricted_states, columns=['abbr_state']\n",
    ").merge(county_to_code_mapping).set_index('fips')[[]]"
   ]
  },
  {
   "cell_type": "code",
   "execution_count": 93,
   "metadata": {
    "collapsed": false
   },
   "outputs": [],
   "source": [
    "restricted_states_df.loc[:, 'voter_restrictions'] = True"
   ]
  },
  {
   "cell_type": "code",
   "execution_count": 98,
   "metadata": {
    "collapsed": false
   },
   "outputs": [],
   "source": [
    "full_vra_counties = full_vra_counties.join(restricted_states_df).fillna(False)"
   ]
  },
  {
   "cell_type": "code",
   "execution_count": 109,
   "metadata": {
    "collapsed": false
   },
   "outputs": [],
   "source": [
    "full_vra_counties = full_vra_counties.reset_index().drop_duplicates().set_index('fips')"
   ]
  },
  {
   "cell_type": "code",
   "execution_count": 110,
   "metadata": {
    "collapsed": true
   },
   "outputs": [],
   "source": [
    "full_vra_counties.to_csv('../data/vra_counties_2015.csv.gz', compression='gzip')"
   ]
  },
  {
   "cell_type": "code",
   "execution_count": null,
   "metadata": {
    "collapsed": true
   },
   "outputs": [],
   "source": []
  },
  {
   "cell_type": "markdown",
   "metadata": {},
   "source": [
    "# Load Election Results"
   ]
  },
  {
   "cell_type": "markdown",
   "metadata": {},
   "source": [
    "## 2016 Results"
   ]
  },
  {
   "cell_type": "code",
   "execution_count": 341,
   "metadata": {
    "collapsed": false
   },
   "outputs": [],
   "source": [
    "pres_2016_df = pd.read_csv(os.path.join(\n",
    "        args.external_data_dir, 'county_election_results_2016/county_election_results_2016.csv'\n",
    "    ))"
   ]
  },
  {
   "cell_type": "code",
   "execution_count": 342,
   "metadata": {
    "collapsed": false
   },
   "outputs": [],
   "source": [
    "#Convert strings, NANs, and '-'s to floats-\n",
    "pres_2016_df.loc[:, 'votes'] = pres_2016_df.votes.fillna('NAN').apply(lambda x: float(x.replace(',', '').replace('-', 'NAN')))"
   ]
  },
  {
   "cell_type": "code",
   "execution_count": 344,
   "metadata": {
    "collapsed": false
   },
   "outputs": [],
   "source": [
    "pres_2016_df = pres_2016_df.dropna(axis=0, subset=['fips'])\n",
    "pres_2016_df.loc[:, 'fips'] = pres_2016_df.fips.astype(int)\n",
    "#pres_2016_df = pres_2016_df.set_index('fips')"
   ]
  },
  {
   "cell_type": "code",
   "execution_count": 345,
   "metadata": {
    "collapsed": true
   },
   "outputs": [],
   "source": [
    "digit_cleaner = re.compile('(\\d+[\\.\\d]?)')\n",
    "def clean_prefixed_digits(dstr):\n",
    "    match = re.search(digit_cleaner, str(dstr))\n",
    "    if match:\n",
    "        return float(match.groups()[0])\n",
    "    else:\n",
    "        return np.nan"
   ]
  },
  {
   "cell_type": "code",
   "execution_count": 346,
   "metadata": {
    "collapsed": false
   },
   "outputs": [],
   "source": [
    "pres_2016_df.loc[:, 'percent_complete'] = pres_2016_df.percent_complete.apply(clean_prefixed_digits)"
   ]
  },
  {
   "cell_type": "code",
   "execution_count": 347,
   "metadata": {
    "collapsed": false
   },
   "outputs": [],
   "source": [
    "#pres_2016_df[pres_2016_df.percent_complete<100].abbr_state.value_counts()/4"
   ]
  },
  {
   "cell_type": "code",
   "execution_count": 348,
   "metadata": {
    "collapsed": true
   },
   "outputs": [],
   "source": [
    "party_mapping_2016 = {\n",
    "    'Hillary Clinton':'D',\n",
    "    'Gary Johnson':'O',\n",
    "    'Jill Stein':'O',\n",
    "    'Donald Trump':'R',\n",
    "    'Other':'O',\n",
    "    'Evan McMullin':'O'\n",
    "}"
   ]
  },
  {
   "cell_type": "code",
   "execution_count": 349,
   "metadata": {
    "collapsed": false
   },
   "outputs": [],
   "source": [
    "pres_2016_df.loc[:, 'party'] = pres_2016_df.candidate.apply(lambda x: party_mapping_2016.get(x))"
   ]
  },
  {
   "cell_type": "code",
   "execution_count": 350,
   "metadata": {
    "collapsed": true
   },
   "outputs": [],
   "source": [
    "pres_2016_df.loc[pres_2016_df.percent_complete<99, 'votes'] = np.nan"
   ]
  },
  {
   "cell_type": "code",
   "execution_count": 351,
   "metadata": {
    "collapsed": false
   },
   "outputs": [],
   "source": [
    "pres_2016_df = pres_2016_df.groupby(['fips', 'party'])[['votes']].sum()"
   ]
  },
  {
   "cell_type": "code",
   "execution_count": 361,
   "metadata": {
    "collapsed": false
   },
   "outputs": [],
   "source": [
    "pres_2016_df.loc[:, 'percent_won'] = pres_2016_df.votes / pres_2016_df.groupby(level=0).votes.sum()"
   ]
  },
  {
   "cell_type": "code",
   "execution_count": 362,
   "metadata": {
    "collapsed": false
   },
   "outputs": [
    {
     "data": {
      "text/html": [
       "<div>\n",
       "<table border=\"1\" class=\"dataframe\">\n",
       "  <thead>\n",
       "    <tr style=\"text-align: right;\">\n",
       "      <th></th>\n",
       "      <th></th>\n",
       "      <th>votes</th>\n",
       "      <th>percent_won</th>\n",
       "    </tr>\n",
       "    <tr>\n",
       "      <th>fips</th>\n",
       "      <th>party</th>\n",
       "      <th></th>\n",
       "      <th></th>\n",
       "    </tr>\n",
       "  </thead>\n",
       "  <tbody>\n",
       "    <tr>\n",
       "      <th rowspan=\"3\" valign=\"top\">1001</th>\n",
       "      <th>D</th>\n",
       "      <td>5908.0</td>\n",
       "      <td>0.239569</td>\n",
       "    </tr>\n",
       "    <tr>\n",
       "      <th>O</th>\n",
       "      <td>643.0</td>\n",
       "      <td>0.026074</td>\n",
       "    </tr>\n",
       "    <tr>\n",
       "      <th>R</th>\n",
       "      <td>18110.0</td>\n",
       "      <td>0.734358</td>\n",
       "    </tr>\n",
       "    <tr>\n",
       "      <th rowspan=\"2\" valign=\"top\">1003</th>\n",
       "      <th>D</th>\n",
       "      <td>18409.0</td>\n",
       "      <td>0.195653</td>\n",
       "    </tr>\n",
       "    <tr>\n",
       "      <th>O</th>\n",
       "      <td>2901.0</td>\n",
       "      <td>0.030832</td>\n",
       "    </tr>\n",
       "  </tbody>\n",
       "</table>\n",
       "</div>"
      ],
      "text/plain": [
       "              votes  percent_won\n",
       "fips party                      \n",
       "1001 D       5908.0     0.239569\n",
       "     O        643.0     0.026074\n",
       "     R      18110.0     0.734358\n",
       "1003 D      18409.0     0.195653\n",
       "     O       2901.0     0.030832"
      ]
     },
     "execution_count": 362,
     "metadata": {},
     "output_type": "execute_result"
    }
   ],
   "source": [
    "pres_2016_df.head()"
   ]
  },
  {
   "cell_type": "code",
   "execution_count": 363,
   "metadata": {
    "collapsed": true
   },
   "outputs": [],
   "source": [
    "pres_2016_df.to_csv('../data/cleaned_pres_2016_df.csv.gz', compression='gzip')"
   ]
  },
  {
   "cell_type": "code",
   "execution_count": 360,
   "metadata": {
    "collapsed": false
   },
   "outputs": [],
   "source": [
    "#pd.read_csv('../data/cleaned_pres_2016_df.csv.gz', compression='gzip', index_col=['fips', 'party'])"
   ]
  },
  {
   "cell_type": "code",
   "execution_count": null,
   "metadata": {
    "collapsed": true
   },
   "outputs": [],
   "source": []
  },
  {
   "cell_type": "markdown",
   "metadata": {},
   "source": [
    "## 2012 Results"
   ]
  },
  {
   "cell_type": "code",
   "execution_count": 312,
   "metadata": {
    "collapsed": false
   },
   "outputs": [],
   "source": [
    "state_list = []\n",
    "for fname in glob.glob(os.path.join(\n",
    "    args.external_data_dir, 'county_election_results_2012/data/*'\n",
    ")):\n",
    "    state_df = pd.read_csv(fname)\n",
    "    state_df.loc[:, 'abbr_state'] = os.path.splitext(os.path.basename(fname))[0]\n",
    "    state_list.append(state_df)\n",
    "pres_2012_df = pd.concat(state_list)"
   ]
  },
  {
   "cell_type": "code",
   "execution_count": 313,
   "metadata": {
    "collapsed": false
   },
   "outputs": [],
   "source": [
    "pres_2012_df = pres_2012_df.dropna(subset=['fips'])\n",
    "pres_2012_df.loc[:, 'fips'] = pres_2012_df.fips.astype(int)\n",
    "#pres_2012_df = pres_2012_df.set_index('fips')"
   ]
  },
  {
   "cell_type": "code",
   "execution_count": 314,
   "metadata": {
    "collapsed": true
   },
   "outputs": [],
   "source": [
    "def party_mapping_2012(cand_str):\n",
    "    if 'obama' in cand_str.lower():\n",
    "        return 'D'\n",
    "    elif 'romney' in cand_str.lower():\n",
    "        return 'R'\n",
    "    else:\n",
    "        return 'O'"
   ]
  },
  {
   "cell_type": "code",
   "execution_count": 315,
   "metadata": {
    "collapsed": false
   },
   "outputs": [],
   "source": [
    "pres_2012_df.loc[:, 'party'] = pres_2012_df.candidate.apply(party_mapping_2012)"
   ]
  },
  {
   "cell_type": "code",
   "execution_count": 316,
   "metadata": {
    "collapsed": false
   },
   "outputs": [
    {
     "data": {
      "text/html": [
       "<div>\n",
       "<table border=\"1\" class=\"dataframe\">\n",
       "  <thead>\n",
       "    <tr style=\"text-align: right;\">\n",
       "      <th></th>\n",
       "      <th>abbr_state</th>\n",
       "      <th>candidate</th>\n",
       "      <th>county</th>\n",
       "      <th>fips</th>\n",
       "      <th>precinct</th>\n",
       "      <th>town</th>\n",
       "      <th>votes</th>\n",
       "      <th>party</th>\n",
       "    </tr>\n",
       "  </thead>\n",
       "  <tbody>\n",
       "    <tr>\n",
       "      <th>0</th>\n",
       "      <td>al</td>\n",
       "      <td>BARACK OBAMA / JOE BIDEN (D)</td>\n",
       "      <td>Autauga</td>\n",
       "      <td>1001</td>\n",
       "      <td>NaN</td>\n",
       "      <td>NaN</td>\n",
       "      <td>6363</td>\n",
       "      <td>D</td>\n",
       "    </tr>\n",
       "    <tr>\n",
       "      <th>1</th>\n",
       "      <td>al</td>\n",
       "      <td>MITT ROMNEY /PAUL RYAN (R)</td>\n",
       "      <td>Autauga</td>\n",
       "      <td>1001</td>\n",
       "      <td>NaN</td>\n",
       "      <td>NaN</td>\n",
       "      <td>17379</td>\n",
       "      <td>R</td>\n",
       "    </tr>\n",
       "    <tr>\n",
       "      <th>2</th>\n",
       "      <td>al</td>\n",
       "      <td>VIRGIL H. GOODE, JR. / JAMES CLYMER (I)</td>\n",
       "      <td>Autauga</td>\n",
       "      <td>1001</td>\n",
       "      <td>NaN</td>\n",
       "      <td>NaN</td>\n",
       "      <td>31</td>\n",
       "      <td>O</td>\n",
       "    </tr>\n",
       "    <tr>\n",
       "      <th>3</th>\n",
       "      <td>al</td>\n",
       "      <td>GARY JOHNSON / JIM GRAY (I)</td>\n",
       "      <td>Autauga</td>\n",
       "      <td>1001</td>\n",
       "      <td>NaN</td>\n",
       "      <td>NaN</td>\n",
       "      <td>137</td>\n",
       "      <td>O</td>\n",
       "    </tr>\n",
       "    <tr>\n",
       "      <th>4</th>\n",
       "      <td>al</td>\n",
       "      <td>JILL STEIN / CHERI HONKALA (I)</td>\n",
       "      <td>Autauga</td>\n",
       "      <td>1001</td>\n",
       "      <td>NaN</td>\n",
       "      <td>NaN</td>\n",
       "      <td>22</td>\n",
       "      <td>O</td>\n",
       "    </tr>\n",
       "  </tbody>\n",
       "</table>\n",
       "</div>"
      ],
      "text/plain": [
       "  abbr_state                                candidate   county  fips precinct  \\\n",
       "0         al             BARACK OBAMA / JOE BIDEN (D)  Autauga  1001      NaN   \n",
       "1         al               MITT ROMNEY /PAUL RYAN (R)  Autauga  1001      NaN   \n",
       "2         al  VIRGIL H. GOODE, JR. / JAMES CLYMER (I)  Autauga  1001      NaN   \n",
       "3         al              GARY JOHNSON / JIM GRAY (I)  Autauga  1001      NaN   \n",
       "4         al           JILL STEIN / CHERI HONKALA (I)  Autauga  1001      NaN   \n",
       "\n",
       "  town  votes party  \n",
       "0  NaN   6363     D  \n",
       "1  NaN  17379     R  \n",
       "2  NaN     31     O  \n",
       "3  NaN    137     O  \n",
       "4  NaN     22     O  "
      ]
     },
     "execution_count": 316,
     "metadata": {},
     "output_type": "execute_result"
    }
   ],
   "source": [
    "pres_2012_df.head()"
   ]
  },
  {
   "cell_type": "code",
   "execution_count": 317,
   "metadata": {
    "collapsed": true
   },
   "outputs": [],
   "source": [
    "## Double check mapping\n",
    "# pres_2012_df.query('party==\"D\"').groupby(['candidate', 'party']).county.count().sort_values(ascending=False)\n",
    "# pres_2012_df.query('party==\"R\"').groupby(['candidate', 'party']).county.count().sort_values(ascending=False)\n",
    "# list(\n",
    "#     pres_2012_df.query('party==\"O\"').groupby(\n",
    "#         ['candidate', 'party']\n",
    "#     ).votes.sum().sort_values(ascending=False).reset_index().candidate\n",
    "# )"
   ]
  },
  {
   "cell_type": "code",
   "execution_count": null,
   "metadata": {
    "collapsed": true
   },
   "outputs": [],
   "source": []
  },
  {
   "cell_type": "code",
   "execution_count": 318,
   "metadata": {
    "collapsed": false
   },
   "outputs": [],
   "source": [
    "pres_2012_df = pres_2012_df[['fips', 'votes', 'party']]"
   ]
  },
  {
   "cell_type": "code",
   "execution_count": 322,
   "metadata": {
    "collapsed": false
   },
   "outputs": [],
   "source": [
    "pres_2012_df = pres_2012_df.groupby(['fips', 'party'])[['votes']].sum()"
   ]
  },
  {
   "cell_type": "code",
   "execution_count": 325,
   "metadata": {
    "collapsed": false
   },
   "outputs": [],
   "source": [
    "pres_2012_df.loc[:, 'percent_won'] = pres_2012_df.votes / pres_2012_df.groupby(level=0).votes.sum()"
   ]
  },
  {
   "cell_type": "code",
   "execution_count": 326,
   "metadata": {
    "collapsed": false
   },
   "outputs": [
    {
     "data": {
      "text/html": [
       "<div>\n",
       "<table border=\"1\" class=\"dataframe\">\n",
       "  <thead>\n",
       "    <tr style=\"text-align: right;\">\n",
       "      <th></th>\n",
       "      <th></th>\n",
       "      <th>votes</th>\n",
       "      <th>percent_won</th>\n",
       "    </tr>\n",
       "    <tr>\n",
       "      <th>fips</th>\n",
       "      <th>party</th>\n",
       "      <th></th>\n",
       "      <th></th>\n",
       "    </tr>\n",
       "  </thead>\n",
       "  <tbody>\n",
       "    <tr>\n",
       "      <th rowspan=\"3\" valign=\"top\">1001</th>\n",
       "      <th>D</th>\n",
       "      <td>6363</td>\n",
       "      <td>0.265424</td>\n",
       "    </tr>\n",
       "    <tr>\n",
       "      <th>O</th>\n",
       "      <td>231</td>\n",
       "      <td>0.009636</td>\n",
       "    </tr>\n",
       "    <tr>\n",
       "      <th>R</th>\n",
       "      <td>17379</td>\n",
       "      <td>0.724941</td>\n",
       "    </tr>\n",
       "    <tr>\n",
       "      <th rowspan=\"2\" valign=\"top\">1003</th>\n",
       "      <th>D</th>\n",
       "      <td>18424</td>\n",
       "      <td>0.215508</td>\n",
       "    </tr>\n",
       "    <tr>\n",
       "      <th>O</th>\n",
       "      <td>1051</td>\n",
       "      <td>0.012294</td>\n",
       "    </tr>\n",
       "  </tbody>\n",
       "</table>\n",
       "</div>"
      ],
      "text/plain": [
       "            votes  percent_won\n",
       "fips party                    \n",
       "1001 D       6363     0.265424\n",
       "     O        231     0.009636\n",
       "     R      17379     0.724941\n",
       "1003 D      18424     0.215508\n",
       "     O       1051     0.012294"
      ]
     },
     "execution_count": 326,
     "metadata": {},
     "output_type": "execute_result"
    }
   ],
   "source": [
    "pres_2012_df.head()"
   ]
  },
  {
   "cell_type": "code",
   "execution_count": 364,
   "metadata": {
    "collapsed": true
   },
   "outputs": [],
   "source": [
    "pres_2012_df.to_csv('../data/cleaned_pres_2012_df.csv.gz', compression='gzip')"
   ]
  },
  {
   "cell_type": "code",
   "execution_count": null,
   "metadata": {
    "collapsed": true
   },
   "outputs": [],
   "source": []
  }
 ],
 "metadata": {
  "hide_input": false,
  "kernelspec": {
   "display_name": "Python 2",
   "language": "python",
   "name": "python2"
  },
  "language_info": {
   "codemirror_mode": {
    "name": "ipython",
    "version": 2
   },
   "file_extension": ".py",
   "mimetype": "text/x-python",
   "name": "python",
   "nbconvert_exporter": "python",
   "pygments_lexer": "ipython2",
   "version": "2.7.12"
  },
  "toc": {
   "nav_menu": {
    "height": "12px",
    "width": "252px"
   },
   "navigate_menu": true,
   "number_sections": true,
   "sideBar": true,
   "threshold": 4,
   "toc_cell": false,
   "toc_section_display": "block",
   "toc_window_display": true
  }
 },
 "nbformat": 4,
 "nbformat_minor": 1
}
